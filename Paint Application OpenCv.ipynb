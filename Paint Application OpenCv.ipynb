{
 "cells": [
  {
   "cell_type": "markdown",
   "metadata": {},
   "source": [
    " # This Paint Application is simple, uses some math and cleverly uses loops!.\n",
    "\n",
    "#### Run the application, a black window will pop up.\n",
    "\n",
    "##### Default brush is circle, and color is red(can be changed in code).\n",
    "##### Press 'r' for rectange (orange), press 'e' for ellipse and press 'o' for circle.\n",
    "##### Press 'c' to clear and 'esc' to exit.\n"
   ]
  },
  {
   "cell_type": "code",
   "execution_count": 10,
   "metadata": {
    "collapsed": true
   },
   "outputs": [],
   "source": [
    "#self implementing paint application\n",
    "\n",
    "import cv2\n",
    "import numpy as np\n",
    "\n",
    "\n",
    "# draw function to define what to do when mouse is clicked\n",
    "def draw(event,x,y,flags,param):\n",
    "    # this is a clever function in OpenCV\n",
    "    \n",
    "    \n",
    "    #if mouse is clicked, then drawing is set to True and function returns.\n",
    "    #if mouse is left idle, then drawing is false and the fuction returns\n",
    "    # if the mouse is click + drag, then drawing is set to true and the drag function works from next iteration\n",
    "    #while if the mouse was not clicked, or no drawing, then drag is not functional because of the If statement in the loop\n",
    "    \n",
    "    global drawing\n",
    "    if event==cv2.EVENT_LBUTTONDOWN:\n",
    "        drawing = True\n",
    "        if toggle==0: # print circles\n",
    "            cv2.circle(img,(x,y),10,(0,0,255),-1)\n",
    "        elif toggle==1:\n",
    "            cv2.rectangle(img,(x-20,y-20),(x+20,y+20),(0,255,255),-1)\n",
    "        else:\n",
    "            cv2.ellipse(img,(x,y),(30,20),0,0,360,255,-1)\n",
    "    elif event==cv2.EVENT_MOUSEMOVE:\n",
    "        if drawing==True:\n",
    "            if toggle==0: # print circles\n",
    "                cv2.circle(img,(x,y),10,(0,0,255),-1)\n",
    "            elif toggle== 1:\n",
    "                cv2.rectangle(img,(x-20,y-20),(x+20,y+20),(0,255,255),-1)\n",
    "            elif toggle==2:\n",
    "                cv2.ellipse(img,(x,y),(30,20),0,0,360,255,-1)\n",
    "        else:\n",
    "            return\n",
    "    elif event==cv2.EVENT_LBUTTONUP:\n",
    "        drawing = False\n"
   ]
  },
  {
   "cell_type": "code",
   "execution_count": 12,
   "metadata": {},
   "outputs": [],
   "source": [
    "\n",
    "img=np.zeros((640,480,3),np.uint8) #create an image that is black\n",
    "cv2.namedWindow('image') #creates an openCv window\n",
    "cv2.setMouseCallback('image',draw) # defines what a mouse click should do. So if mouse is clicked, then there is a function associated with that that click which is immediately executed\n",
    "#'image' is not a string, but window name, draw function is auto given arguments as above^^^\n",
    "\n",
    "global toogle\n",
    "toggle=0\n",
    "reset=False\n",
    "while(1):\n",
    "    \n",
    "    cv2.imshow('image',img)\n",
    "#     if(cv2.waitKey(10) & 0xFF==ord('m')):\n",
    "#         toggle=bool(abs(int(toggle)-1))\n",
    "    \n",
    "    k= cv2.waitKey(1) & 0xFF\n",
    "    #print(k)\n",
    "    #these are the toggles. There is a catch, that k==27 has to be the ending statement and there must be no else statement only if and elif statement so that this code is stuck till the toggle is implemented.\n",
    "    #if there was an else statement, then due to rapid refresh rate of the while loop(due to waitKey(1)), else will always execute, if otherwise you keep pressing a button!\n",
    "    \n",
    "    if k==ord('r'):\n",
    "        toggle=1\n",
    "    elif k==ord('e'):\n",
    "        toggle=2\n",
    "    elif k==ord('o') :\n",
    "        toggle=0\n",
    "    elif k==ord('c'):\n",
    "        img=np.zeros((640,480,3),np.uint8) #create an image that is black\n",
    "    elif k==27:# pressed escape\n",
    "        break  \n",
    "    #no else statement !!!\n",
    "    \n",
    "    \n",
    "    font = cv2.FONT_HERSHEY_SIMPLEX\n",
    "    cv2.putText(img,'PaintTM',(170,570), font, 1,(255,255,255),2,cv2.LINE_AA)\n",
    "    cv2.putText(img,'press(r), (e),(o) ',(90,600), font, 1,(255,255,255),1,cv2.LINE_AA)\n",
    "    cv2.putText(img,'press c to clear',(90,630), font, 1,(255,255,255),1,cv2.LINE_AA)\n",
    "    \n",
    "    #cv2.putText(img,'PaintTM',(160,600), font, 1,(255,255,255),2,cv2.LINE_AA)\n",
    "    \n",
    "#cv2.waitKey(0)\n",
    "cv2.destroyAllWindows()"
   ]
  },
  {
   "cell_type": "code",
   "execution_count": null,
   "metadata": {
    "collapsed": true
   },
   "outputs": [],
   "source": []
  }
 ],
 "metadata": {
  "kernelspec": {
   "display_name": "Python 3",
   "language": "python",
   "name": "python3"
  },
  "language_info": {
   "codemirror_mode": {
    "name": "ipython",
    "version": 3
   },
   "file_extension": ".py",
   "mimetype": "text/x-python",
   "name": "python",
   "nbconvert_exporter": "python",
   "pygments_lexer": "ipython3",
   "version": "3.6.3"
  }
 },
 "nbformat": 4,
 "nbformat_minor": 2
}
